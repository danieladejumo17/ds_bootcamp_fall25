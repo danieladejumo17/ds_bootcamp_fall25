{
 "cells": [
  {
   "cell_type": "markdown",
   "id": "48ce4d81",
   "metadata": {},
   "source": [
    "Name: Daniel Adejumo\n",
    "\n",
    "Net ID: dxa239"
   ]
  },
  {
   "cell_type": "code",
   "execution_count": 1,
   "id": "bcbe3a35",
   "metadata": {},
   "outputs": [
    {
     "name": "stdout",
     "output_type": "stream",
     "text": [
      "Number of vowels in 'eliphant': 3\n"
     ]
    }
   ],
   "source": [
    "# 1. Count the number of vowels in a word\n",
    "\n",
    "# Get a word from the user\n",
    "word = input(\"Enter a word: \")\n",
    "# Convert the word to lowercase\n",
    "word = word.lower()\n",
    "\n",
    "# Define vowels\n",
    "vowels = \"aeiou\"\n",
    "# Count vowels in the word\n",
    "count = sum(1 for letter in word if letter in vowels)\n",
    "\n",
    "print(f\"Number of vowels in '{word}': {count}\")"
   ]
  },
  {
   "cell_type": "code",
   "execution_count": 2,
   "id": "b28bc507",
   "metadata": {},
   "outputs": [
    {
     "name": "stdout",
     "output_type": "stream",
     "text": [
      "Animals in all caps:\n",
      "TIGER\n",
      "ELEPHANT\n",
      "MONKEY\n",
      "ZEBRA\n",
      "PANTHER\n"
     ]
    }
   ],
   "source": [
    "# 2. Print each animal in a list in all caps\n",
    "animals = ['tiger', 'elephant', 'monkey', 'zebra', 'panther']\n",
    "\n",
    "print(\"Animals in all caps:\")\n",
    "for animal in animals:\n",
    "    print(animal.upper())"
   ]
  },
  {
   "cell_type": "code",
   "execution_count": 4,
   "id": "dcfea070",
   "metadata": {},
   "outputs": [
    {
     "name": "stdout",
     "output_type": "stream",
     "text": [
      "Numbers from 1 to 20:\n",
      "1 - Odd\n",
      "2 - Even\n",
      "3 - Odd\n",
      "4 - Even\n",
      "5 - Odd\n",
      "6 - Even\n",
      "7 - Odd\n",
      "8 - Even\n",
      "9 - Odd\n",
      "10 - Even\n",
      "11 - Odd\n",
      "12 - Even\n",
      "13 - Odd\n",
      "14 - Even\n",
      "15 - Odd\n",
      "16 - Even\n",
      "17 - Odd\n",
      "18 - Even\n",
      "19 - Odd\n",
      "20 - Even\n"
     ]
    }
   ],
   "source": [
    "# 3. Print numbers from 1 to 20 with odd/even labels\n",
    "print(\"Numbers from 1 to 20:\")\n",
    "for num in range(1, 21):\n",
    "    if num % 2 == 0:\n",
    "        print(f\"{num} - Even\")\n",
    "    else:\n",
    "        print(f\"{num} - Odd\")"
   ]
  },
  {
   "cell_type": "code",
   "execution_count": 5,
   "id": "3a6c6158",
   "metadata": {},
   "outputs": [
    {
     "name": "stdout",
     "output_type": "stream",
     "text": [
      "'kicicik' is a palindrome.\n"
     ]
    }
   ],
   "source": [
    "# 4. Check if a string is a palindrome\n",
    "string = input(\"Enter a string to check if it's a palindrome: \").lower()\n",
    "\n",
    "if string == string[::-1]: # Palindrome if the string is the same as its reverse\n",
    "    print(f\"'{string}' is a palindrome.\")\n",
    "else:\n",
    "    print(f\"'{string}' is not a palindrome.\")"
   ]
  },
  {
   "cell_type": "code",
   "execution_count": 6,
   "id": "2739e6e2",
   "metadata": {},
   "outputs": [],
   "source": [
    "# 5. Function to sum two integers (optional)\n",
    "def sum_of_integers(a, b):\n",
    "    return a + b"
   ]
  },
  {
   "cell_type": "code",
   "execution_count": 7,
   "id": "496008e9",
   "metadata": {},
   "outputs": [
    {
     "name": "stdout",
     "output_type": "stream",
     "text": [
      "The sum of 10 and 32 is: 42\n"
     ]
    }
   ],
   "source": [
    "a = int(input(\"Enter first integer: \"))\n",
    "b = int(input(\"Enter second integer: \"))\n",
    "sum = sum_of_integers(a, b)\n",
    "print(f\"The sum of {a} and {b} is: {sum}\")"
   ]
  }
 ],
 "metadata": {
  "kernelspec": {
   "display_name": "GenesisRL",
   "language": "python",
   "name": "python3"
  },
  "language_info": {
   "codemirror_mode": {
    "name": "ipython",
    "version": 3
   },
   "file_extension": ".py",
   "mimetype": "text/x-python",
   "name": "python",
   "nbconvert_exporter": "python",
   "pygments_lexer": "ipython3",
   "version": "3.12.9"
  }
 },
 "nbformat": 4,
 "nbformat_minor": 5
}
